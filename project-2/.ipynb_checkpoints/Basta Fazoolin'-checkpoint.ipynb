{
 "cells": [
  {
   "cell_type": "code",
   "execution_count": 4,
   "metadata": {},
   "outputs": [
    {
     "name": "stdout",
     "output_type": "stream",
     "text": [
      "Take A' Arepa\n"
     ]
    }
   ],
   "source": [
    "#from datetime import datetime\n",
    "#datetime\n",
    "class Menu:\n",
    "    def __init__(self, name, items, start_time, end_time):\n",
    "        self.name = name\n",
    "        self.items = items\n",
    "        self.start_time = start_time\n",
    "        self.end_time = end_time\n",
    "    \n",
    "    def __repr__(self):\n",
    "        return \"{m} available from {st} to {en}\".format(m=self.name, st=self.start_time, en=self.end_time)\n",
    "  \n",
    "    def calculate_bill(self, purchased_items):\n",
    "        total = 0\n",
    "        for item in purchased_items:\n",
    "            total += self.items.get(item)\n",
    "        return total\n",
    "\n",
    "brunch = Menu(\"Brunch\", \n",
    "{\n",
    "  'pancakes': 7.50, 'waffles': 9.00, 'burger': 11.00, 'home fries': 4.50, 'coffee': 1.50, 'espresso': 3.00, 'tea': 1.00, 'mimosa': 10.50, 'orange juice': 3.50\n",
    "}, \n",
    "11, 16)\n",
    "early_bird = Menu(\"Early Bird\", \n",
    "{\n",
    "  'salumeria plate': 8.00, 'salad and breadsticks (serves 2, no refills)': 14.00, 'pizza with quattro formaggi': 9.00, 'duck ragu': 17.50, 'mushroom ravioli (vegan)': 13.50, 'coffee': 1.50, 'espresso': 3.00,\n",
    "},\n",
    "15, 18)\n",
    "dinner = Menu(\"Dinner\",\n",
    "{\n",
    "  'crostini with eggplant caponata': 13.00, 'ceaser salad': 16.00, 'pizza with quattro formaggi': 11.00, 'duck ragu': 19.50, 'mushroom ravioli (vegan)': 13.50, 'coffee': 2.00, 'espresso': 3.00,\n",
    "},\n",
    "17, 23)\n",
    "kids = Menu(\"Kids\",\n",
    "{\n",
    "  'chicken nuggets': 6.50, 'fusilli with wild mushrooms': 12.00, 'apple juice': 3.00\n",
    "},\n",
    "11, 21)\n",
    "\n",
    "class Franchise:\n",
    "    def __init__(self, address, menus):\n",
    "        self.address = address\n",
    "        self.menus = menus\n",
    "    def __repr__(self):\n",
    "        return self.address\n",
    "    def available_menus(self, time):\n",
    "        available_menus = []\n",
    "        for menu in self.menus:\n",
    "            if time >= menu.start_time and time <= menu.end_time:\n",
    "                available_menus.append(menu)\n",
    "        return available_menus\n",
    "\n",
    "flagship_store = Franchise(\"1232 West End Road\", [brunch, early_bird, dinner, kids])\n",
    "\n",
    "new_installment = Franchise(\"12 East Mulberry Street\", [brunch, early_bird, dinner, kids])\n",
    "\n",
    "class Business:\n",
    "    def __init__(self, name, franchises):\n",
    "        self.name = name\n",
    "        self.franchises = franchises\n",
    "    def __repr__(self):\n",
    "        return self.name\n",
    "\n",
    "first_business =  Business(\"Basta Fazoolin' with my Heart\", [flagship_store, new_installment])\n",
    "\n",
    "arepas_menu = Menu(\"Arepas Menu\", \n",
    "{\n",
    "  'arepa pabellon': 7.00, 'pernil arepa': 8.50, 'guayanes arepa': 8.00, 'jamon arepa': 7.50\n",
    "},\n",
    "10, 20)\n",
    "arepas_place = Franchise(\"189 Fitzgerald Avenue\", [arepas_menu])\n",
    "second_business = Business(\"Take A' Arepa\", [arepas_place])\n",
    "print(second_business)"
   ]
  },
  {
   "cell_type": "code",
   "execution_count": null,
   "metadata": {},
   "outputs": [],
   "source": []
  }
 ],
 "metadata": {
  "kernelspec": {
   "display_name": "Python 3",
   "language": "python",
   "name": "python3"
  },
  "language_info": {
   "codemirror_mode": {
    "name": "ipython",
    "version": 3
   },
   "file_extension": ".py",
   "mimetype": "text/x-python",
   "name": "python",
   "nbconvert_exporter": "python",
   "pygments_lexer": "ipython3",
   "version": "3.8.2"
  }
 },
 "nbformat": 4,
 "nbformat_minor": 4
}
